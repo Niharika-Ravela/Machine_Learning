{
 "cells": [
  {
   "cell_type": "code",
   "execution_count": 1,
   "metadata": {},
   "outputs": [],
   "source": [
    "# importing all the needed libraries\n",
    "import pandas as pd\n",
    "import numpy as np\n",
    "from sklearn.model_selection import train_test_split \n",
    "from sklearn.preprocessing import StandardScaler\n",
    "from sklearn.decomposition import PCA\n",
    "import matplotlib\n",
    "import matplotlib.pyplot as plt\n",
    "from sklearn.model_selection import cross_val_score\n",
    "from sklearn.metrics import confusion_matrix\n",
    "from sklearn.metrics import accuracy_score, confusion_matrix, classification_report\n",
    "from sklearn.model_selection import GridSearchCV\n",
    "from sklearn.svm import SVC\n",
    "import seaborn as sns\n",
    "import warnings\n",
    "warnings.filterwarnings(\"ignore\")"
   ]
  },
  {
   "cell_type": "code",
   "execution_count": 2,
   "metadata": {},
   "outputs": [
    {
     "data": {
      "text/html": [
       "<div>\n",
       "<style scoped>\n",
       "    .dataframe tbody tr th:only-of-type {\n",
       "        vertical-align: middle;\n",
       "    }\n",
       "\n",
       "    .dataframe tbody tr th {\n",
       "        vertical-align: top;\n",
       "    }\n",
       "\n",
       "    .dataframe thead th {\n",
       "        text-align: right;\n",
       "    }\n",
       "</style>\n",
       "<table border=\"1\" class=\"dataframe\">\n",
       "  <thead>\n",
       "    <tr style=\"text-align: right;\">\n",
       "      <th></th>\n",
       "      <th>ID</th>\n",
       "      <th>air_time1</th>\n",
       "      <th>disp_index1</th>\n",
       "      <th>gmrt_in_air1</th>\n",
       "      <th>gmrt_on_paper1</th>\n",
       "      <th>max_x_extension1</th>\n",
       "      <th>max_y_extension1</th>\n",
       "      <th>mean_acc_in_air1</th>\n",
       "      <th>mean_acc_on_paper1</th>\n",
       "      <th>mean_gmrt1</th>\n",
       "      <th>...</th>\n",
       "      <th>mean_jerk_in_air25</th>\n",
       "      <th>mean_jerk_on_paper25</th>\n",
       "      <th>mean_speed_in_air25</th>\n",
       "      <th>mean_speed_on_paper25</th>\n",
       "      <th>num_of_pendown25</th>\n",
       "      <th>paper_time25</th>\n",
       "      <th>pressure_mean25</th>\n",
       "      <th>pressure_var25</th>\n",
       "      <th>total_time25</th>\n",
       "      <th>class</th>\n",
       "    </tr>\n",
       "  </thead>\n",
       "  <tbody>\n",
       "    <tr>\n",
       "      <th>0</th>\n",
       "      <td>id_1</td>\n",
       "      <td>5160</td>\n",
       "      <td>0.000013</td>\n",
       "      <td>120.804174</td>\n",
       "      <td>86.853334</td>\n",
       "      <td>957</td>\n",
       "      <td>6601</td>\n",
       "      <td>0.361800</td>\n",
       "      <td>0.217459</td>\n",
       "      <td>103.828754</td>\n",
       "      <td>...</td>\n",
       "      <td>0.141434</td>\n",
       "      <td>0.024471</td>\n",
       "      <td>5.596487</td>\n",
       "      <td>3.184589</td>\n",
       "      <td>71</td>\n",
       "      <td>40120</td>\n",
       "      <td>1749.278166</td>\n",
       "      <td>296102.7676</td>\n",
       "      <td>144605</td>\n",
       "      <td>P</td>\n",
       "    </tr>\n",
       "    <tr>\n",
       "      <th>1</th>\n",
       "      <td>id_2</td>\n",
       "      <td>51980</td>\n",
       "      <td>0.000016</td>\n",
       "      <td>115.318238</td>\n",
       "      <td>83.448681</td>\n",
       "      <td>1694</td>\n",
       "      <td>6998</td>\n",
       "      <td>0.272513</td>\n",
       "      <td>0.144880</td>\n",
       "      <td>99.383459</td>\n",
       "      <td>...</td>\n",
       "      <td>0.049663</td>\n",
       "      <td>0.018368</td>\n",
       "      <td>1.665973</td>\n",
       "      <td>0.950249</td>\n",
       "      <td>129</td>\n",
       "      <td>126700</td>\n",
       "      <td>1504.768272</td>\n",
       "      <td>278744.2850</td>\n",
       "      <td>298640</td>\n",
       "      <td>P</td>\n",
       "    </tr>\n",
       "    <tr>\n",
       "      <th>2</th>\n",
       "      <td>id_3</td>\n",
       "      <td>2600</td>\n",
       "      <td>0.000010</td>\n",
       "      <td>229.933997</td>\n",
       "      <td>172.761858</td>\n",
       "      <td>2333</td>\n",
       "      <td>5802</td>\n",
       "      <td>0.387020</td>\n",
       "      <td>0.181342</td>\n",
       "      <td>201.347928</td>\n",
       "      <td>...</td>\n",
       "      <td>0.178194</td>\n",
       "      <td>0.017174</td>\n",
       "      <td>4.000781</td>\n",
       "      <td>2.392521</td>\n",
       "      <td>74</td>\n",
       "      <td>45480</td>\n",
       "      <td>1431.443492</td>\n",
       "      <td>144411.7055</td>\n",
       "      <td>79025</td>\n",
       "      <td>P</td>\n",
       "    </tr>\n",
       "    <tr>\n",
       "      <th>3</th>\n",
       "      <td>id_4</td>\n",
       "      <td>2130</td>\n",
       "      <td>0.000010</td>\n",
       "      <td>369.403342</td>\n",
       "      <td>183.193104</td>\n",
       "      <td>1756</td>\n",
       "      <td>8159</td>\n",
       "      <td>0.556879</td>\n",
       "      <td>0.164502</td>\n",
       "      <td>276.298223</td>\n",
       "      <td>...</td>\n",
       "      <td>0.113905</td>\n",
       "      <td>0.019860</td>\n",
       "      <td>4.206746</td>\n",
       "      <td>1.613522</td>\n",
       "      <td>123</td>\n",
       "      <td>67945</td>\n",
       "      <td>1465.843329</td>\n",
       "      <td>230184.7154</td>\n",
       "      <td>181220</td>\n",
       "      <td>P</td>\n",
       "    </tr>\n",
       "    <tr>\n",
       "      <th>4</th>\n",
       "      <td>id_5</td>\n",
       "      <td>2310</td>\n",
       "      <td>0.000007</td>\n",
       "      <td>257.997131</td>\n",
       "      <td>111.275889</td>\n",
       "      <td>987</td>\n",
       "      <td>4732</td>\n",
       "      <td>0.266077</td>\n",
       "      <td>0.145104</td>\n",
       "      <td>184.636510</td>\n",
       "      <td>...</td>\n",
       "      <td>0.121782</td>\n",
       "      <td>0.020872</td>\n",
       "      <td>3.319036</td>\n",
       "      <td>1.680629</td>\n",
       "      <td>92</td>\n",
       "      <td>37285</td>\n",
       "      <td>1841.702561</td>\n",
       "      <td>158290.0255</td>\n",
       "      <td>72575</td>\n",
       "      <td>P</td>\n",
       "    </tr>\n",
       "  </tbody>\n",
       "</table>\n",
       "<p>5 rows × 452 columns</p>\n",
       "</div>"
      ],
      "text/plain": [
       "     ID  air_time1  disp_index1  gmrt_in_air1  gmrt_on_paper1  \\\n",
       "0  id_1       5160     0.000013    120.804174       86.853334   \n",
       "1  id_2      51980     0.000016    115.318238       83.448681   \n",
       "2  id_3       2600     0.000010    229.933997      172.761858   \n",
       "3  id_4       2130     0.000010    369.403342      183.193104   \n",
       "4  id_5       2310     0.000007    257.997131      111.275889   \n",
       "\n",
       "   max_x_extension1  max_y_extension1  mean_acc_in_air1  mean_acc_on_paper1  \\\n",
       "0               957              6601          0.361800            0.217459   \n",
       "1              1694              6998          0.272513            0.144880   \n",
       "2              2333              5802          0.387020            0.181342   \n",
       "3              1756              8159          0.556879            0.164502   \n",
       "4               987              4732          0.266077            0.145104   \n",
       "\n",
       "   mean_gmrt1  ...  mean_jerk_in_air25  mean_jerk_on_paper25  \\\n",
       "0  103.828754  ...            0.141434              0.024471   \n",
       "1   99.383459  ...            0.049663              0.018368   \n",
       "2  201.347928  ...            0.178194              0.017174   \n",
       "3  276.298223  ...            0.113905              0.019860   \n",
       "4  184.636510  ...            0.121782              0.020872   \n",
       "\n",
       "   mean_speed_in_air25  mean_speed_on_paper25  num_of_pendown25  paper_time25  \\\n",
       "0             5.596487               3.184589                71         40120   \n",
       "1             1.665973               0.950249               129        126700   \n",
       "2             4.000781               2.392521                74         45480   \n",
       "3             4.206746               1.613522               123         67945   \n",
       "4             3.319036               1.680629                92         37285   \n",
       "\n",
       "   pressure_mean25  pressure_var25  total_time25  class  \n",
       "0      1749.278166     296102.7676        144605      P  \n",
       "1      1504.768272     278744.2850        298640      P  \n",
       "2      1431.443492     144411.7055         79025      P  \n",
       "3      1465.843329     230184.7154        181220      P  \n",
       "4      1841.702561     158290.0255         72575      P  \n",
       "\n",
       "[5 rows x 452 columns]"
      ]
     },
     "execution_count": 2,
     "metadata": {},
     "output_type": "execute_result"
    }
   ],
   "source": [
    "# Loading the data into a dataframe\n",
    "df = pd.read_csv(\"DARWIN.csv\")\n",
    "df.head()"
   ]
  },
  {
   "cell_type": "code",
   "execution_count": 3,
   "metadata": {},
   "outputs": [
    {
     "name": "stdout",
     "output_type": "stream",
     "text": [
      "<class 'pandas.core.frame.DataFrame'>\n",
      "RangeIndex: 174 entries, 0 to 173\n",
      "Columns: 452 entries, ID to class\n",
      "dtypes: float64(300), int64(150), object(2)\n",
      "memory usage: 614.6+ KB\n"
     ]
    }
   ],
   "source": [
    "# Data Summary\n",
    "df.info()"
   ]
  },
  {
   "cell_type": "code",
   "execution_count": 4,
   "metadata": {},
   "outputs": [
    {
     "data": {
      "text/plain": [
       "ID                  object\n",
       "air_time1            int64\n",
       "disp_index1        float64\n",
       "gmrt_in_air1       float64\n",
       "gmrt_on_paper1     float64\n",
       "                    ...   \n",
       "paper_time25         int64\n",
       "pressure_mean25    float64\n",
       "pressure_var25     float64\n",
       "total_time25         int64\n",
       "class               object\n",
       "Length: 452, dtype: object"
      ]
     },
     "execution_count": 4,
     "metadata": {},
     "output_type": "execute_result"
    }
   ],
   "source": [
    "df.dtypes"
   ]
  },
  {
   "cell_type": "code",
   "execution_count": 5,
   "metadata": {},
   "outputs": [],
   "source": [
    "# Divided the data into target and predictor variables\n",
    "y = pd.DataFrame(df['class'],columns=['class'])\n",
    "df = df.drop(labels=['ID','class'],axis=1)\n"
   ]
  },
  {
   "cell_type": "code",
   "execution_count": 6,
   "metadata": {},
   "outputs": [
    {
     "data": {
      "text/html": [
       "<div>\n",
       "<style scoped>\n",
       "    .dataframe tbody tr th:only-of-type {\n",
       "        vertical-align: middle;\n",
       "    }\n",
       "\n",
       "    .dataframe tbody tr th {\n",
       "        vertical-align: top;\n",
       "    }\n",
       "\n",
       "    .dataframe thead th {\n",
       "        text-align: right;\n",
       "    }\n",
       "</style>\n",
       "<table border=\"1\" class=\"dataframe\">\n",
       "  <thead>\n",
       "    <tr style=\"text-align: right;\">\n",
       "      <th></th>\n",
       "      <th>class</th>\n",
       "    </tr>\n",
       "  </thead>\n",
       "  <tbody>\n",
       "    <tr>\n",
       "      <th>0</th>\n",
       "      <td>P</td>\n",
       "    </tr>\n",
       "    <tr>\n",
       "      <th>1</th>\n",
       "      <td>P</td>\n",
       "    </tr>\n",
       "    <tr>\n",
       "      <th>2</th>\n",
       "      <td>P</td>\n",
       "    </tr>\n",
       "    <tr>\n",
       "      <th>3</th>\n",
       "      <td>P</td>\n",
       "    </tr>\n",
       "    <tr>\n",
       "      <th>4</th>\n",
       "      <td>P</td>\n",
       "    </tr>\n",
       "    <tr>\n",
       "      <th>...</th>\n",
       "      <td>...</td>\n",
       "    </tr>\n",
       "    <tr>\n",
       "      <th>169</th>\n",
       "      <td>H</td>\n",
       "    </tr>\n",
       "    <tr>\n",
       "      <th>170</th>\n",
       "      <td>H</td>\n",
       "    </tr>\n",
       "    <tr>\n",
       "      <th>171</th>\n",
       "      <td>H</td>\n",
       "    </tr>\n",
       "    <tr>\n",
       "      <th>172</th>\n",
       "      <td>H</td>\n",
       "    </tr>\n",
       "    <tr>\n",
       "      <th>173</th>\n",
       "      <td>H</td>\n",
       "    </tr>\n",
       "  </tbody>\n",
       "</table>\n",
       "<p>174 rows × 1 columns</p>\n",
       "</div>"
      ],
      "text/plain": [
       "    class\n",
       "0       P\n",
       "1       P\n",
       "2       P\n",
       "3       P\n",
       "4       P\n",
       "..    ...\n",
       "169     H\n",
       "170     H\n",
       "171     H\n",
       "172     H\n",
       "173     H\n",
       "\n",
       "[174 rows x 1 columns]"
      ]
     },
     "execution_count": 6,
     "metadata": {},
     "output_type": "execute_result"
    }
   ],
   "source": [
    "# y is out target variable with class labels P and H \n",
    "y"
   ]
  },
  {
   "cell_type": "code",
   "execution_count": 7,
   "metadata": {},
   "outputs": [
    {
     "data": {
      "text/plain": [
       "air_time1           0\n",
       "disp_index1         0\n",
       "gmrt_in_air1        0\n",
       "gmrt_on_paper1      0\n",
       "max_x_extension1    0\n",
       "                   ..\n",
       "num_of_pendown25    0\n",
       "paper_time25        0\n",
       "pressure_mean25     0\n",
       "pressure_var25      0\n",
       "total_time25        0\n",
       "Length: 450, dtype: int64"
      ]
     },
     "execution_count": 7,
     "metadata": {},
     "output_type": "execute_result"
    }
   ],
   "source": [
    "# Checking if there are any null values in the data set\n",
    "df.isnull().sum()"
   ]
  },
  {
   "cell_type": "code",
   "execution_count": 8,
   "metadata": {},
   "outputs": [
    {
     "data": {
      "text/plain": [
       "air_time1           0\n",
       "disp_index1         0\n",
       "gmrt_in_air1        0\n",
       "gmrt_on_paper1      0\n",
       "max_x_extension1    0\n",
       "                   ..\n",
       "num_of_pendown25    0\n",
       "paper_time25        0\n",
       "pressure_mean25     0\n",
       "pressure_var25      0\n",
       "total_time25        0\n",
       "Length: 450, dtype: int64"
      ]
     },
     "execution_count": 8,
     "metadata": {},
     "output_type": "execute_result"
    }
   ],
   "source": [
    "# Checking if there are any missing values in the dataframe\n",
    "df.isna().sum()"
   ]
  },
  {
   "cell_type": "code",
   "execution_count": 9,
   "metadata": {},
   "outputs": [
    {
     "data": {
      "text/plain": [
       "class    0\n",
       "dtype: int64"
      ]
     },
     "execution_count": 9,
     "metadata": {},
     "output_type": "execute_result"
    }
   ],
   "source": [
    "# Checking null values for the target variable \n",
    "y.isnull().sum()"
   ]
  },
  {
   "cell_type": "code",
   "execution_count": 10,
   "metadata": {},
   "outputs": [
    {
     "data": {
      "text/plain": [
       "class    0\n",
       "dtype: int64"
      ]
     },
     "execution_count": 10,
     "metadata": {},
     "output_type": "execute_result"
    }
   ],
   "source": [
    "# Checking missing values for the target variable\n",
    "y.isna().sum()"
   ]
  },
  {
   "cell_type": "code",
   "execution_count": 11,
   "metadata": {},
   "outputs": [
    {
     "data": {
      "text/plain": [
       "class\n",
       "P        89\n",
       "H        85\n",
       "dtype: int64"
      ]
     },
     "execution_count": 11,
     "metadata": {},
     "output_type": "execute_result"
    }
   ],
   "source": [
    "# the classification count for the target variable\n",
    "y.value_counts()"
   ]
  },
  {
   "cell_type": "code",
   "execution_count": 12,
   "metadata": {},
   "outputs": [
    {
     "data": {
      "text/html": [
       "<div>\n",
       "<style scoped>\n",
       "    .dataframe tbody tr th:only-of-type {\n",
       "        vertical-align: middle;\n",
       "    }\n",
       "\n",
       "    .dataframe tbody tr th {\n",
       "        vertical-align: top;\n",
       "    }\n",
       "\n",
       "    .dataframe thead th {\n",
       "        text-align: right;\n",
       "    }\n",
       "</style>\n",
       "<table border=\"1\" class=\"dataframe\">\n",
       "  <thead>\n",
       "    <tr style=\"text-align: right;\">\n",
       "      <th></th>\n",
       "      <th>class</th>\n",
       "    </tr>\n",
       "  </thead>\n",
       "  <tbody>\n",
       "    <tr>\n",
       "      <th>0</th>\n",
       "      <td>1</td>\n",
       "    </tr>\n",
       "    <tr>\n",
       "      <th>1</th>\n",
       "      <td>1</td>\n",
       "    </tr>\n",
       "    <tr>\n",
       "      <th>2</th>\n",
       "      <td>1</td>\n",
       "    </tr>\n",
       "    <tr>\n",
       "      <th>3</th>\n",
       "      <td>1</td>\n",
       "    </tr>\n",
       "    <tr>\n",
       "      <th>4</th>\n",
       "      <td>1</td>\n",
       "    </tr>\n",
       "  </tbody>\n",
       "</table>\n",
       "</div>"
      ],
      "text/plain": [
       "   class\n",
       "0      1\n",
       "1      1\n",
       "2      1\n",
       "3      1\n",
       "4      1"
      ]
     },
     "execution_count": 12,
     "metadata": {},
     "output_type": "execute_result"
    }
   ],
   "source": [
    "# Highest class gets mapped to 1 and the other to 0 (Converting categorical variable to binary)\n",
    "y['class'] = y['class'].map({'P':1,'H':0})\n",
    "y.head()"
   ]
  },
  {
   "cell_type": "code",
   "execution_count": 13,
   "metadata": {},
   "outputs": [
    {
     "data": {
      "text/plain": [
       "class\n",
       "1        89\n",
       "0        85\n",
       "dtype: int64"
      ]
     },
     "execution_count": 13,
     "metadata": {},
     "output_type": "execute_result"
    }
   ],
   "source": [
    "y.value_counts()"
   ]
  },
  {
   "cell_type": "code",
   "execution_count": 14,
   "metadata": {},
   "outputs": [
    {
     "data": {
      "text/html": [
       "<div>\n",
       "<style scoped>\n",
       "    .dataframe tbody tr th:only-of-type {\n",
       "        vertical-align: middle;\n",
       "    }\n",
       "\n",
       "    .dataframe tbody tr th {\n",
       "        vertical-align: top;\n",
       "    }\n",
       "\n",
       "    .dataframe thead th {\n",
       "        text-align: right;\n",
       "    }\n",
       "</style>\n",
       "<table border=\"1\" class=\"dataframe\">\n",
       "  <thead>\n",
       "    <tr style=\"text-align: right;\">\n",
       "      <th></th>\n",
       "      <th>air_time1</th>\n",
       "      <th>disp_index1</th>\n",
       "      <th>gmrt_in_air1</th>\n",
       "      <th>gmrt_on_paper1</th>\n",
       "      <th>max_x_extension1</th>\n",
       "      <th>max_y_extension1</th>\n",
       "      <th>mean_acc_in_air1</th>\n",
       "      <th>mean_acc_on_paper1</th>\n",
       "      <th>mean_gmrt1</th>\n",
       "      <th>mean_jerk_in_air1</th>\n",
       "      <th>...</th>\n",
       "      <th>mean_gmrt25</th>\n",
       "      <th>mean_jerk_in_air25</th>\n",
       "      <th>mean_jerk_on_paper25</th>\n",
       "      <th>mean_speed_in_air25</th>\n",
       "      <th>mean_speed_on_paper25</th>\n",
       "      <th>num_of_pendown25</th>\n",
       "      <th>paper_time25</th>\n",
       "      <th>pressure_mean25</th>\n",
       "      <th>pressure_var25</th>\n",
       "      <th>total_time25</th>\n",
       "    </tr>\n",
       "  </thead>\n",
       "  <tbody>\n",
       "    <tr>\n",
       "      <th>0</th>\n",
       "      <td>5160</td>\n",
       "      <td>0.000013</td>\n",
       "      <td>120.804174</td>\n",
       "      <td>86.853334</td>\n",
       "      <td>957</td>\n",
       "      <td>6601</td>\n",
       "      <td>0.3618</td>\n",
       "      <td>0.217459</td>\n",
       "      <td>103.828754</td>\n",
       "      <td>0.051836</td>\n",
       "      <td>...</td>\n",
       "      <td>249.729085</td>\n",
       "      <td>0.141434</td>\n",
       "      <td>0.024471</td>\n",
       "      <td>5.596487</td>\n",
       "      <td>3.184589</td>\n",
       "      <td>71</td>\n",
       "      <td>40120</td>\n",
       "      <td>1749.278166</td>\n",
       "      <td>296102.7676</td>\n",
       "      <td>144605</td>\n",
       "    </tr>\n",
       "  </tbody>\n",
       "</table>\n",
       "<p>1 rows × 450 columns</p>\n",
       "</div>"
      ],
      "text/plain": [
       "   air_time1  disp_index1  gmrt_in_air1  gmrt_on_paper1  max_x_extension1  \\\n",
       "0       5160     0.000013    120.804174       86.853334               957   \n",
       "\n",
       "   max_y_extension1  mean_acc_in_air1  mean_acc_on_paper1  mean_gmrt1  \\\n",
       "0              6601            0.3618            0.217459  103.828754   \n",
       "\n",
       "   mean_jerk_in_air1  ...  mean_gmrt25  mean_jerk_in_air25  \\\n",
       "0           0.051836  ...   249.729085            0.141434   \n",
       "\n",
       "   mean_jerk_on_paper25  mean_speed_in_air25  mean_speed_on_paper25  \\\n",
       "0              0.024471             5.596487               3.184589   \n",
       "\n",
       "   num_of_pendown25  paper_time25  pressure_mean25  pressure_var25  \\\n",
       "0                71         40120      1749.278166     296102.7676   \n",
       "\n",
       "   total_time25  \n",
       "0        144605  \n",
       "\n",
       "[1 rows x 450 columns]"
      ]
     },
     "execution_count": 14,
     "metadata": {},
     "output_type": "execute_result"
    }
   ],
   "source": [
    "df[:1]"
   ]
  },
  {
   "cell_type": "code",
   "execution_count": 15,
   "metadata": {},
   "outputs": [
    {
     "data": {
      "text/plain": [
       "'air_time1                  int64\\ndisp_index1              float64\\ngmrt_in_air1             float64\\ngmrt_on_paper1           float64\\nmax_x_extension1           int64\\nmax_y_extension1           int64\\nmean_acc_in_air1         float64\\nmean_acc_on_paper1       float64\\nmean_gmrt1               float64\\nmean_jerk_in_air1        float64\\nmean_jerk_on_paper1      float64\\nmean_speed_in_air1       float64\\nmean_speed_on_paper1     float64\\nnum_of_pendown1            int64\\npaper_time1                int64\\npressure_mean1           float64\\npressure_var1            float64\\ntotal_time1                int64\\nair_time2                  int64\\ndisp_index2              float64\\ngmrt_in_air2             float64\\ngmrt_on_paper2           float64\\nmax_x_extension2           int64\\nmax_y_extension2           int64\\nmean_acc_in_air2         float64\\nmean_acc_on_paper2       float64\\nmean_gmrt2               float64\\nmean_jerk_in_air2        float64\\nmean_jerk_on_paper2      float64\\nmean_speed_in_air2       float64\\nmean_speed_on_paper2     float64\\nnum_of_pendown2            int64\\npaper_time2                int64\\npressure_mean2           float64\\npressure_var2            float64\\ntotal_time2                int64\\nair_time3                  int64\\ndisp_index3              float64\\ngmrt_in_air3             float64\\ngmrt_on_paper3           float64\\nmax_x_extension3           int64\\nmax_y_extension3           int64\\nmean_acc_in_air3         float64\\nmean_acc_on_paper3       float64\\nmean_gmrt3               float64\\nmean_jerk_in_air3        float64\\nmean_jerk_on_paper3      float64\\nmean_speed_in_air3       float64\\nmean_speed_on_paper3     float64\\nnum_of_pendown3            int64\\npaper_time3                int64\\npressure_mean3           float64\\npressure_var3            float64\\ntotal_time3                int64\\nair_time4                  int64\\ndisp_index4              float64\\ngmrt_in_air4             float64\\ngmrt_on_paper4           float64\\nmax_x_extension4           int64\\nmax_y_extension4           int64\\nmean_acc_in_air4         float64\\nmean_acc_on_paper4       float64\\nmean_gmrt4               float64\\nmean_jerk_in_air4        float64\\nmean_jerk_on_paper4      float64\\nmean_speed_in_air4       float64\\nmean_speed_on_paper4     float64\\nnum_of_pendown4            int64\\npaper_time4                int64\\npressure_mean4           float64\\npressure_var4            float64\\ntotal_time4                int64\\nair_time5                  int64\\ndisp_index5              float64\\ngmrt_in_air5             float64\\ngmrt_on_paper5           float64\\nmax_x_extension5           int64\\nmax_y_extension5           int64\\nmean_acc_in_air5         float64\\nmean_acc_on_paper5       float64\\nmean_gmrt5               float64\\nmean_jerk_in_air5        float64\\nmean_jerk_on_paper5      float64\\nmean_speed_in_air5       float64\\nmean_speed_on_paper5     float64\\nnum_of_pendown5            int64\\npaper_time5                int64\\npressure_mean5           float64\\npressure_var5            float64\\ntotal_time5                int64\\nair_time6                  int64\\ndisp_index6              float64\\ngmrt_in_air6             float64\\ngmrt_on_paper6           float64\\nmax_x_extension6           int64\\nmax_y_extension6           int64\\nmean_acc_in_air6         float64\\nmean_acc_on_paper6       float64\\nmean_gmrt6               float64\\nmean_jerk_in_air6        float64\\nmean_jerk_on_paper6      float64\\nmean_speed_in_air6       float64\\nmean_speed_on_paper6     float64\\nnum_of_pendown6            int64\\npaper_time6                int64\\npressure_mean6           float64\\npressure_var6            float64\\ntotal_time6                int64\\nair_time7                  int64\\ndisp_index7              float64\\ngmrt_in_air7             float64\\ngmrt_on_paper7           float64\\nmax_x_extension7           int64\\nmax_y_extension7           int64\\nmean_acc_in_air7         float64\\nmean_acc_on_paper7       float64\\nmean_gmrt7               float64\\nmean_jerk_in_air7        float64\\nmean_jerk_on_paper7      float64\\nmean_speed_in_air7       float64\\nmean_speed_on_paper7     float64\\nnum_of_pendown7            int64\\npaper_time7                int64\\npressure_mean7           float64\\npressure_var7            float64\\ntotal_time7                int64\\nair_time8                  int64\\ndisp_index8              float64\\ngmrt_in_air8             float64\\ngmrt_on_paper8           float64\\nmax_x_extension8           int64\\nmax_y_extension8           int64\\nmean_acc_in_air8         float64\\nmean_acc_on_paper8       float64\\nmean_gmrt8               float64\\nmean_jerk_in_air8        float64\\nmean_jerk_on_paper8      float64\\nmean_speed_in_air8       float64\\nmean_speed_on_paper8     float64\\nnum_of_pendown8            int64\\npaper_time8                int64\\npressure_mean8           float64\\npressure_var8            float64\\ntotal_time8                int64\\nair_time9                  int64\\ndisp_index9              float64\\ngmrt_in_air9             float64\\ngmrt_on_paper9           float64\\nmax_x_extension9           int64\\nmax_y_extension9           int64\\nmean_acc_in_air9         float64\\nmean_acc_on_paper9       float64\\nmean_gmrt9               float64\\nmean_jerk_in_air9        float64\\nmean_jerk_on_paper9      float64\\nmean_speed_in_air9       float64\\nmean_speed_on_paper9     float64\\nnum_of_pendown9            int64\\npaper_time9                int64\\npressure_mean9           float64\\npressure_var9            float64\\ntotal_time9                int64\\nair_time10                 int64\\ndisp_index10             float64\\ngmrt_in_air10            float64\\ngmrt_on_paper10          float64\\nmax_x_extension10          int64\\nmax_y_extension10          int64\\nmean_acc_in_air10        float64\\nmean_acc_on_paper10      float64\\nmean_gmrt10              float64\\nmean_jerk_in_air10       float64\\nmean_jerk_on_paper10     float64\\nmean_speed_in_air10      float64\\nmean_speed_on_paper10    float64\\nnum_of_pendown10           int64\\npaper_time10               int64\\npressure_mean10          float64\\npressure_var10           float64\\ntotal_time10               int64\\nair_time11                 int64\\ndisp_index11             float64\\ngmrt_in_air11            float64\\ngmrt_on_paper11          float64\\nmax_x_extension11          int64\\nmax_y_extension11          int64\\nmean_acc_in_air11        float64\\nmean_acc_on_paper11      float64\\nmean_gmrt11              float64\\nmean_jerk_in_air11       float64\\nmean_jerk_on_paper11     float64\\nmean_speed_in_air11      float64\\nmean_speed_on_paper11    float64\\nnum_of_pendown11           int64\\npaper_time11               int64\\npressure_mean11          float64\\npressure_var11           float64\\ntotal_time11               int64\\nair_time12                 int64\\ndisp_index12             float64\\ngmrt_in_air12            float64\\ngmrt_on_paper12          float64\\nmax_x_extension12          int64\\nmax_y_extension12          int64\\nmean_acc_in_air12        float64\\nmean_acc_on_paper12      float64\\nmean_gmrt12              float64\\nmean_jerk_in_air12       float64\\nmean_jerk_on_paper12     float64\\nmean_speed_in_air12      float64\\nmean_speed_on_paper12    float64\\nnum_of_pendown12           int64\\npaper_time12               int64\\npressure_mean12          float64\\npressure_var12           float64\\ntotal_time12               int64\\nair_time13                 int64\\ndisp_index13             float64\\ngmrt_in_air13            float64\\ngmrt_on_paper13          float64\\nmax_x_extension13          int64\\nmax_y_extension13          int64\\nmean_acc_in_air13        float64\\nmean_acc_on_paper13      float64\\nmean_gmrt13              float64\\nmean_jerk_in_air13       float64\\nmean_jerk_on_paper13     float64\\nmean_speed_in_air13      float64\\nmean_speed_on_paper13    float64\\nnum_of_pendown13           int64\\npaper_time13               int64\\npressure_mean13          float64\\npressure_var13           float64\\ntotal_time13               int64\\nair_time14                 int64\\ndisp_index14             float64\\ngmrt_in_air14            float64\\ngmrt_on_paper14          float64\\nmax_x_extension14          int64\\nmax_y_extension14          int64\\nmean_acc_in_air14        float64\\nmean_acc_on_paper14      float64\\nmean_gmrt14              float64\\nmean_jerk_in_air14       float64\\nmean_jerk_on_paper14     float64\\nmean_speed_in_air14      float64\\nmean_speed_on_paper14    float64\\nnum_of_pendown14           int64\\npaper_time14               int64\\npressure_mean14          float64\\npressure_var14           float64\\ntotal_time14               int64\\nair_time15                 int64\\ndisp_index15             float64\\ngmrt_in_air15            float64\\ngmrt_on_paper15          float64\\nmax_x_extension15          int64\\nmax_y_extension15          int64\\nmean_acc_in_air15        float64\\nmean_acc_on_paper15      float64\\nmean_gmrt15              float64\\nmean_jerk_in_air15       float64\\nmean_jerk_on_paper15     float64\\nmean_speed_in_air15      float64\\nmean_speed_on_paper15    float64\\nnum_of_pendown15           int64\\npaper_time15               int64\\npressure_mean15          float64\\npressure_var15           float64\\ntotal_time15               int64\\nair_time16                 int64\\ndisp_index16             float64\\ngmrt_in_air16            float64\\ngmrt_on_paper16          float64\\nmax_x_extension16          int64\\nmax_y_extension16          int64\\nmean_acc_in_air16        float64\\nmean_acc_on_paper16      float64\\nmean_gmrt16              float64\\nmean_jerk_in_air16       float64\\nmean_jerk_on_paper16     float64\\nmean_speed_in_air16      float64\\nmean_speed_on_paper16    float64\\nnum_of_pendown16           int64\\npaper_time16               int64\\npressure_mean16          float64\\npressure_var16           float64\\ntotal_time16               int64\\nair_time17                 int64\\ndisp_index17             float64\\ngmrt_in_air17            float64\\ngmrt_on_paper17          float64\\nmax_x_extension17          int64\\nmax_y_extension17          int64\\nmean_acc_in_air17        float64\\nmean_acc_on_paper17      float64\\nmean_gmrt17              float64\\nmean_jerk_in_air17       float64\\nmean_jerk_on_paper17     float64\\nmean_speed_in_air17      float64\\nmean_speed_on_paper17    float64\\nnum_of_pendown17           int64\\npaper_time17               int64\\npressure_mean17          float64\\npressure_var17           float64\\ntotal_time17               int64\\nair_time18                 int64\\ndisp_index18             float64\\ngmrt_in_air18            float64\\ngmrt_on_paper18          float64\\nmax_x_extension18          int64\\nmax_y_extension18          int64\\nmean_acc_in_air18        float64\\nmean_acc_on_paper18      float64\\nmean_gmrt18              float64\\nmean_jerk_in_air18       float64\\nmean_jerk_on_paper18     float64\\nmean_speed_in_air18      float64\\nmean_speed_on_paper18    float64\\nnum_of_pendown18           int64\\npaper_time18               int64\\npressure_mean18          float64\\npressure_var18           float64\\ntotal_time18               int64\\nair_time19                 int64\\ndisp_index19             float64\\ngmrt_in_air19            float64\\ngmrt_on_paper19          float64\\nmax_x_extension19          int64\\nmax_y_extension19          int64\\nmean_acc_in_air19        float64\\nmean_acc_on_paper19      float64\\nmean_gmrt19              float64\\nmean_jerk_in_air19       float64\\nmean_jerk_on_paper19     float64\\nmean_speed_in_air19      float64\\nmean_speed_on_paper19    float64\\nnum_of_pendown19           int64\\npaper_time19               int64\\npressure_mean19          float64\\npressure_var19           float64\\ntotal_time19               int64\\nair_time20                 int64\\ndisp_index20             float64\\ngmrt_in_air20            float64\\ngmrt_on_paper20          float64\\nmax_x_extension20          int64\\nmax_y_extension20          int64\\nmean_acc_in_air20        float64\\nmean_acc_on_paper20      float64\\nmean_gmrt20              float64\\nmean_jerk_in_air20       float64\\nmean_jerk_on_paper20     float64\\nmean_speed_in_air20      float64\\nmean_speed_on_paper20    float64\\nnum_of_pendown20           int64\\npaper_time20               int64\\npressure_mean20          float64\\npressure_var20           float64\\ntotal_time20               int64\\nair_time21                 int64\\ndisp_index21             float64\\ngmrt_in_air21            float64\\ngmrt_on_paper21          float64\\nmax_x_extension21          int64\\nmax_y_extension21          int64\\nmean_acc_in_air21        float64\\nmean_acc_on_paper21      float64\\nmean_gmrt21              float64\\nmean_jerk_in_air21       float64\\nmean_jerk_on_paper21     float64\\nmean_speed_in_air21      float64\\nmean_speed_on_paper21    float64\\nnum_of_pendown21           int64\\npaper_time21               int64\\npressure_mean21          float64\\npressure_var21           float64\\ntotal_time21               int64\\nair_time22                 int64\\ndisp_index22             float64\\ngmrt_in_air22            float64\\ngmrt_on_paper22          float64\\nmax_x_extension22          int64\\nmax_y_extension22          int64\\nmean_acc_in_air22        float64\\nmean_acc_on_paper22      float64\\nmean_gmrt22              float64\\nmean_jerk_in_air22       float64\\nmean_jerk_on_paper22     float64\\nmean_speed_in_air22      float64\\nmean_speed_on_paper22    float64\\nnum_of_pendown22           int64\\npaper_time22               int64\\npressure_mean22          float64\\npressure_var22           float64\\ntotal_time22               int64\\nair_time23                 int64\\ndisp_index23             float64\\ngmrt_in_air23            float64\\ngmrt_on_paper23          float64\\nmax_x_extension23          int64\\nmax_y_extension23          int64\\nmean_acc_in_air23        float64\\nmean_acc_on_paper23      float64\\nmean_gmrt23              float64\\nmean_jerk_in_air23       float64\\nmean_jerk_on_paper23     float64\\nmean_speed_in_air23      float64\\nmean_speed_on_paper23    float64\\nnum_of_pendown23           int64\\npaper_time23               int64\\npressure_mean23          float64\\npressure_var23           float64\\ntotal_time23               int64\\nair_time24                 int64\\ndisp_index24             float64\\ngmrt_in_air24            float64\\ngmrt_on_paper24          float64\\nmax_x_extension24          int64\\nmax_y_extension24          int64\\nmean_acc_in_air24        float64\\nmean_acc_on_paper24      float64\\nmean_gmrt24              float64\\nmean_jerk_in_air24       float64\\nmean_jerk_on_paper24     float64\\nmean_speed_in_air24      float64\\nmean_speed_on_paper24    float64\\nnum_of_pendown24           int64\\npaper_time24               int64\\npressure_mean24          float64\\npressure_var24           float64\\ntotal_time24               int64\\nair_time25                 int64\\ndisp_index25             float64\\ngmrt_in_air25            float64\\ngmrt_on_paper25          float64\\nmax_x_extension25          int64\\nmax_y_extension25          int64\\nmean_acc_in_air25        float64\\nmean_acc_on_paper25      float64\\nmean_gmrt25              float64\\nmean_jerk_in_air25       float64\\nmean_jerk_on_paper25     float64\\nmean_speed_in_air25      float64\\nmean_speed_on_paper25    float64\\nnum_of_pendown25           int64\\npaper_time25               int64\\npressure_mean25          float64\\npressure_var25           float64\\ntotal_time25               int64'"
      ]
     },
     "metadata": {},
     "output_type": "display_data"
    }
   ],
   "source": [
    "# Looking at the datatypes of the features\n",
    "display(df.dtypes.to_string())"
   ]
  },
  {
   "cell_type": "code",
   "execution_count": 16,
   "metadata": {},
   "outputs": [
    {
     "name": "stdout",
     "output_type": "stream",
     "text": [
      "<class 'pandas.core.frame.DataFrame'>\n",
      "RangeIndex: 174 entries, 0 to 173\n",
      "Columns: 450 entries, air_time1 to total_time25\n",
      "dtypes: float64(300), int64(150)\n",
      "memory usage: 611.8 KB\n"
     ]
    }
   ],
   "source": [
    "df.info()"
   ]
  },
  {
   "cell_type": "code",
   "execution_count": 17,
   "metadata": {},
   "outputs": [],
   "source": [
    "# Splitting the data into train and test sets with 75 and 25 percent\n",
    "X_train,X_test,y_train,y_test = train_test_split(df,y,test_size=0.25, random_state=1)"
   ]
  },
  {
   "cell_type": "code",
   "execution_count": 18,
   "metadata": {},
   "outputs": [
    {
     "data": {
      "text/html": [
       "<div>\n",
       "<style scoped>\n",
       "    .dataframe tbody tr th:only-of-type {\n",
       "        vertical-align: middle;\n",
       "    }\n",
       "\n",
       "    .dataframe tbody tr th {\n",
       "        vertical-align: top;\n",
       "    }\n",
       "\n",
       "    .dataframe thead th {\n",
       "        text-align: right;\n",
       "    }\n",
       "</style>\n",
       "<table border=\"1\" class=\"dataframe\">\n",
       "  <thead>\n",
       "    <tr style=\"text-align: right;\">\n",
       "      <th></th>\n",
       "      <th>air_time1</th>\n",
       "      <th>disp_index1</th>\n",
       "      <th>gmrt_in_air1</th>\n",
       "      <th>gmrt_on_paper1</th>\n",
       "      <th>max_x_extension1</th>\n",
       "      <th>max_y_extension1</th>\n",
       "      <th>mean_acc_in_air1</th>\n",
       "      <th>mean_acc_on_paper1</th>\n",
       "      <th>mean_gmrt1</th>\n",
       "      <th>mean_jerk_in_air1</th>\n",
       "      <th>...</th>\n",
       "      <th>mean_gmrt25</th>\n",
       "      <th>mean_jerk_in_air25</th>\n",
       "      <th>mean_jerk_on_paper25</th>\n",
       "      <th>mean_speed_in_air25</th>\n",
       "      <th>mean_speed_on_paper25</th>\n",
       "      <th>num_of_pendown25</th>\n",
       "      <th>paper_time25</th>\n",
       "      <th>pressure_mean25</th>\n",
       "      <th>pressure_var25</th>\n",
       "      <th>total_time25</th>\n",
       "    </tr>\n",
       "  </thead>\n",
       "  <tbody>\n",
       "    <tr>\n",
       "      <th>56</th>\n",
       "      <td>2640</td>\n",
       "      <td>0.000011</td>\n",
       "      <td>197.890810</td>\n",
       "      <td>138.510957</td>\n",
       "      <td>1912</td>\n",
       "      <td>8214</td>\n",
       "      <td>0.201585</td>\n",
       "      <td>0.126801</td>\n",
       "      <td>168.200884</td>\n",
       "      <td>0.029140</td>\n",
       "      <td>...</td>\n",
       "      <td>238.719902</td>\n",
       "      <td>0.081834</td>\n",
       "      <td>0.025759</td>\n",
       "      <td>3.566676</td>\n",
       "      <td>4.785148</td>\n",
       "      <td>93</td>\n",
       "      <td>36125</td>\n",
       "      <td>1856.262837</td>\n",
       "      <td>155739.52800</td>\n",
       "      <td>106760</td>\n",
       "    </tr>\n",
       "    <tr>\n",
       "      <th>44</th>\n",
       "      <td>3720</td>\n",
       "      <td>0.000010</td>\n",
       "      <td>263.252553</td>\n",
       "      <td>150.394284</td>\n",
       "      <td>1049</td>\n",
       "      <td>9005</td>\n",
       "      <td>0.392947</td>\n",
       "      <td>0.169245</td>\n",
       "      <td>206.823418</td>\n",
       "      <td>0.064320</td>\n",
       "      <td>...</td>\n",
       "      <td>347.824522</td>\n",
       "      <td>0.244135</td>\n",
       "      <td>0.022231</td>\n",
       "      <td>7.899764</td>\n",
       "      <td>3.929554</td>\n",
       "      <td>49</td>\n",
       "      <td>30105</td>\n",
       "      <td>1961.516027</td>\n",
       "      <td>84889.52196</td>\n",
       "      <td>41280</td>\n",
       "    </tr>\n",
       "    <tr>\n",
       "      <th>81</th>\n",
       "      <td>3235</td>\n",
       "      <td>0.000008</td>\n",
       "      <td>285.310405</td>\n",
       "      <td>306.741968</td>\n",
       "      <td>2710</td>\n",
       "      <td>5757</td>\n",
       "      <td>0.550117</td>\n",
       "      <td>0.237772</td>\n",
       "      <td>296.026187</td>\n",
       "      <td>0.099228</td>\n",
       "      <td>...</td>\n",
       "      <td>264.310776</td>\n",
       "      <td>0.205982</td>\n",
       "      <td>0.018896</td>\n",
       "      <td>4.806361</td>\n",
       "      <td>3.335828</td>\n",
       "      <td>60</td>\n",
       "      <td>35920</td>\n",
       "      <td>1929.296214</td>\n",
       "      <td>94373.02807</td>\n",
       "      <td>59175</td>\n",
       "    </tr>\n",
       "    <tr>\n",
       "      <th>33</th>\n",
       "      <td>2630</td>\n",
       "      <td>0.000013</td>\n",
       "      <td>276.714723</td>\n",
       "      <td>181.317565</td>\n",
       "      <td>1639</td>\n",
       "      <td>11729</td>\n",
       "      <td>0.218019</td>\n",
       "      <td>0.164965</td>\n",
       "      <td>229.016144</td>\n",
       "      <td>0.030151</td>\n",
       "      <td>...</td>\n",
       "      <td>205.611943</td>\n",
       "      <td>0.126723</td>\n",
       "      <td>0.018062</td>\n",
       "      <td>4.296292</td>\n",
       "      <td>2.584401</td>\n",
       "      <td>84</td>\n",
       "      <td>46880</td>\n",
       "      <td>1007.974936</td>\n",
       "      <td>162033.71240</td>\n",
       "      <td>128215</td>\n",
       "    </tr>\n",
       "    <tr>\n",
       "      <th>18</th>\n",
       "      <td>6365</td>\n",
       "      <td>0.000011</td>\n",
       "      <td>78.339161</td>\n",
       "      <td>118.660574</td>\n",
       "      <td>1425</td>\n",
       "      <td>7755</td>\n",
       "      <td>0.127188</td>\n",
       "      <td>0.119886</td>\n",
       "      <td>98.499867</td>\n",
       "      <td>0.016190</td>\n",
       "      <td>...</td>\n",
       "      <td>169.917101</td>\n",
       "      <td>0.117464</td>\n",
       "      <td>0.018629</td>\n",
       "      <td>3.498404</td>\n",
       "      <td>2.073031</td>\n",
       "      <td>119</td>\n",
       "      <td>59035</td>\n",
       "      <td>474.049462</td>\n",
       "      <td>26984.92666</td>\n",
       "      <td>177155</td>\n",
       "    </tr>\n",
       "  </tbody>\n",
       "</table>\n",
       "<p>5 rows × 450 columns</p>\n",
       "</div>"
      ],
      "text/plain": [
       "    air_time1  disp_index1  gmrt_in_air1  gmrt_on_paper1  max_x_extension1  \\\n",
       "56       2640     0.000011    197.890810      138.510957              1912   \n",
       "44       3720     0.000010    263.252553      150.394284              1049   \n",
       "81       3235     0.000008    285.310405      306.741968              2710   \n",
       "33       2630     0.000013    276.714723      181.317565              1639   \n",
       "18       6365     0.000011     78.339161      118.660574              1425   \n",
       "\n",
       "    max_y_extension1  mean_acc_in_air1  mean_acc_on_paper1  mean_gmrt1  \\\n",
       "56              8214          0.201585            0.126801  168.200884   \n",
       "44              9005          0.392947            0.169245  206.823418   \n",
       "81              5757          0.550117            0.237772  296.026187   \n",
       "33             11729          0.218019            0.164965  229.016144   \n",
       "18              7755          0.127188            0.119886   98.499867   \n",
       "\n",
       "    mean_jerk_in_air1  ...  mean_gmrt25  mean_jerk_in_air25  \\\n",
       "56           0.029140  ...   238.719902            0.081834   \n",
       "44           0.064320  ...   347.824522            0.244135   \n",
       "81           0.099228  ...   264.310776            0.205982   \n",
       "33           0.030151  ...   205.611943            0.126723   \n",
       "18           0.016190  ...   169.917101            0.117464   \n",
       "\n",
       "    mean_jerk_on_paper25  mean_speed_in_air25  mean_speed_on_paper25  \\\n",
       "56              0.025759             3.566676               4.785148   \n",
       "44              0.022231             7.899764               3.929554   \n",
       "81              0.018896             4.806361               3.335828   \n",
       "33              0.018062             4.296292               2.584401   \n",
       "18              0.018629             3.498404               2.073031   \n",
       "\n",
       "    num_of_pendown25  paper_time25  pressure_mean25  pressure_var25  \\\n",
       "56                93         36125      1856.262837    155739.52800   \n",
       "44                49         30105      1961.516027     84889.52196   \n",
       "81                60         35920      1929.296214     94373.02807   \n",
       "33                84         46880      1007.974936    162033.71240   \n",
       "18               119         59035       474.049462     26984.92666   \n",
       "\n",
       "    total_time25  \n",
       "56        106760  \n",
       "44         41280  \n",
       "81         59175  \n",
       "33        128215  \n",
       "18        177155  \n",
       "\n",
       "[5 rows x 450 columns]"
      ]
     },
     "execution_count": 18,
     "metadata": {},
     "output_type": "execute_result"
    }
   ],
   "source": [
    "X_train.head()"
   ]
  },
  {
   "cell_type": "code",
   "execution_count": 19,
   "metadata": {},
   "outputs": [
    {
     "data": {
      "text/html": [
       "<div>\n",
       "<style scoped>\n",
       "    .dataframe tbody tr th:only-of-type {\n",
       "        vertical-align: middle;\n",
       "    }\n",
       "\n",
       "    .dataframe tbody tr th {\n",
       "        vertical-align: top;\n",
       "    }\n",
       "\n",
       "    .dataframe thead th {\n",
       "        text-align: right;\n",
       "    }\n",
       "</style>\n",
       "<table border=\"1\" class=\"dataframe\">\n",
       "  <thead>\n",
       "    <tr style=\"text-align: right;\">\n",
       "      <th></th>\n",
       "      <th>air_time1</th>\n",
       "      <th>disp_index1</th>\n",
       "      <th>gmrt_in_air1</th>\n",
       "      <th>gmrt_on_paper1</th>\n",
       "      <th>max_x_extension1</th>\n",
       "      <th>max_y_extension1</th>\n",
       "      <th>mean_acc_in_air1</th>\n",
       "      <th>mean_acc_on_paper1</th>\n",
       "      <th>mean_gmrt1</th>\n",
       "      <th>mean_jerk_in_air1</th>\n",
       "      <th>...</th>\n",
       "      <th>mean_gmrt25</th>\n",
       "      <th>mean_jerk_in_air25</th>\n",
       "      <th>mean_jerk_on_paper25</th>\n",
       "      <th>mean_speed_in_air25</th>\n",
       "      <th>mean_speed_on_paper25</th>\n",
       "      <th>num_of_pendown25</th>\n",
       "      <th>paper_time25</th>\n",
       "      <th>pressure_mean25</th>\n",
       "      <th>pressure_var25</th>\n",
       "      <th>total_time25</th>\n",
       "    </tr>\n",
       "  </thead>\n",
       "  <tbody>\n",
       "    <tr>\n",
       "      <th>93</th>\n",
       "      <td>820</td>\n",
       "      <td>0.000006</td>\n",
       "      <td>383.299801</td>\n",
       "      <td>205.540128</td>\n",
       "      <td>1450</td>\n",
       "      <td>6510</td>\n",
       "      <td>0.230208</td>\n",
       "      <td>0.169987</td>\n",
       "      <td>294.419964</td>\n",
       "      <td>0.029387</td>\n",
       "      <td>...</td>\n",
       "      <td>280.420732</td>\n",
       "      <td>0.273785</td>\n",
       "      <td>0.021416</td>\n",
       "      <td>6.507507</td>\n",
       "      <td>3.472656</td>\n",
       "      <td>89</td>\n",
       "      <td>35650</td>\n",
       "      <td>1720.844320</td>\n",
       "      <td>205176.87960</td>\n",
       "      <td>83050</td>\n",
       "    </tr>\n",
       "    <tr>\n",
       "      <th>114</th>\n",
       "      <td>345</td>\n",
       "      <td>0.000012</td>\n",
       "      <td>556.505801</td>\n",
       "      <td>193.256525</td>\n",
       "      <td>2191</td>\n",
       "      <td>7860</td>\n",
       "      <td>0.317984</td>\n",
       "      <td>0.149155</td>\n",
       "      <td>374.881163</td>\n",
       "      <td>0.047136</td>\n",
       "      <td>...</td>\n",
       "      <td>311.973909</td>\n",
       "      <td>0.220858</td>\n",
       "      <td>0.021177</td>\n",
       "      <td>6.611603</td>\n",
       "      <td>4.243341</td>\n",
       "      <td>65</td>\n",
       "      <td>33475</td>\n",
       "      <td>1911.355937</td>\n",
       "      <td>87703.48361</td>\n",
       "      <td>63630</td>\n",
       "    </tr>\n",
       "    <tr>\n",
       "      <th>19</th>\n",
       "      <td>32300</td>\n",
       "      <td>0.000013</td>\n",
       "      <td>139.410773</td>\n",
       "      <td>94.248239</td>\n",
       "      <td>2091</td>\n",
       "      <td>5908</td>\n",
       "      <td>0.415122</td>\n",
       "      <td>0.104892</td>\n",
       "      <td>116.829506</td>\n",
       "      <td>0.072672</td>\n",
       "      <td>...</td>\n",
       "      <td>175.727050</td>\n",
       "      <td>0.102401</td>\n",
       "      <td>0.018792</td>\n",
       "      <td>3.257622</td>\n",
       "      <td>2.273153</td>\n",
       "      <td>106</td>\n",
       "      <td>44470</td>\n",
       "      <td>1615.038565</td>\n",
       "      <td>234812.39170</td>\n",
       "      <td>108950</td>\n",
       "    </tr>\n",
       "    <tr>\n",
       "      <th>69</th>\n",
       "      <td>5400</td>\n",
       "      <td>0.000013</td>\n",
       "      <td>203.749975</td>\n",
       "      <td>206.359195</td>\n",
       "      <td>1427</td>\n",
       "      <td>11100</td>\n",
       "      <td>0.359900</td>\n",
       "      <td>0.197051</td>\n",
       "      <td>205.054585</td>\n",
       "      <td>0.052372</td>\n",
       "      <td>...</td>\n",
       "      <td>185.359647</td>\n",
       "      <td>0.088991</td>\n",
       "      <td>0.026235</td>\n",
       "      <td>2.895010</td>\n",
       "      <td>3.087367</td>\n",
       "      <td>79</td>\n",
       "      <td>23150</td>\n",
       "      <td>1759.896976</td>\n",
       "      <td>244975.41210</td>\n",
       "      <td>75275</td>\n",
       "    </tr>\n",
       "    <tr>\n",
       "      <th>53</th>\n",
       "      <td>4185</td>\n",
       "      <td>0.000010</td>\n",
       "      <td>161.261471</td>\n",
       "      <td>145.945182</td>\n",
       "      <td>1556</td>\n",
       "      <td>7543</td>\n",
       "      <td>0.353787</td>\n",
       "      <td>0.129616</td>\n",
       "      <td>153.603327</td>\n",
       "      <td>0.059282</td>\n",
       "      <td>...</td>\n",
       "      <td>148.609757</td>\n",
       "      <td>0.096133</td>\n",
       "      <td>0.017372</td>\n",
       "      <td>3.224385</td>\n",
       "      <td>1.780429</td>\n",
       "      <td>149</td>\n",
       "      <td>79225</td>\n",
       "      <td>1669.535816</td>\n",
       "      <td>287020.97290</td>\n",
       "      <td>197280</td>\n",
       "    </tr>\n",
       "  </tbody>\n",
       "</table>\n",
       "<p>5 rows × 450 columns</p>\n",
       "</div>"
      ],
      "text/plain": [
       "     air_time1  disp_index1  gmrt_in_air1  gmrt_on_paper1  max_x_extension1  \\\n",
       "93         820     0.000006    383.299801      205.540128              1450   \n",
       "114        345     0.000012    556.505801      193.256525              2191   \n",
       "19       32300     0.000013    139.410773       94.248239              2091   \n",
       "69        5400     0.000013    203.749975      206.359195              1427   \n",
       "53        4185     0.000010    161.261471      145.945182              1556   \n",
       "\n",
       "     max_y_extension1  mean_acc_in_air1  mean_acc_on_paper1  mean_gmrt1  \\\n",
       "93               6510          0.230208            0.169987  294.419964   \n",
       "114              7860          0.317984            0.149155  374.881163   \n",
       "19               5908          0.415122            0.104892  116.829506   \n",
       "69              11100          0.359900            0.197051  205.054585   \n",
       "53               7543          0.353787            0.129616  153.603327   \n",
       "\n",
       "     mean_jerk_in_air1  ...  mean_gmrt25  mean_jerk_in_air25  \\\n",
       "93            0.029387  ...   280.420732            0.273785   \n",
       "114           0.047136  ...   311.973909            0.220858   \n",
       "19            0.072672  ...   175.727050            0.102401   \n",
       "69            0.052372  ...   185.359647            0.088991   \n",
       "53            0.059282  ...   148.609757            0.096133   \n",
       "\n",
       "     mean_jerk_on_paper25  mean_speed_in_air25  mean_speed_on_paper25  \\\n",
       "93               0.021416             6.507507               3.472656   \n",
       "114              0.021177             6.611603               4.243341   \n",
       "19               0.018792             3.257622               2.273153   \n",
       "69               0.026235             2.895010               3.087367   \n",
       "53               0.017372             3.224385               1.780429   \n",
       "\n",
       "     num_of_pendown25  paper_time25  pressure_mean25  pressure_var25  \\\n",
       "93                 89         35650      1720.844320    205176.87960   \n",
       "114                65         33475      1911.355937     87703.48361   \n",
       "19                106         44470      1615.038565    234812.39170   \n",
       "69                 79         23150      1759.896976    244975.41210   \n",
       "53                149         79225      1669.535816    287020.97290   \n",
       "\n",
       "     total_time25  \n",
       "93          83050  \n",
       "114         63630  \n",
       "19         108950  \n",
       "69          75275  \n",
       "53         197280  \n",
       "\n",
       "[5 rows x 450 columns]"
      ]
     },
     "execution_count": 19,
     "metadata": {},
     "output_type": "execute_result"
    }
   ],
   "source": [
    "X_test.head()"
   ]
  },
  {
   "cell_type": "code",
   "execution_count": 20,
   "metadata": {},
   "outputs": [
    {
     "data": {
      "text/html": [
       "<div>\n",
       "<style scoped>\n",
       "    .dataframe tbody tr th:only-of-type {\n",
       "        vertical-align: middle;\n",
       "    }\n",
       "\n",
       "    .dataframe tbody tr th {\n",
       "        vertical-align: top;\n",
       "    }\n",
       "\n",
       "    .dataframe thead th {\n",
       "        text-align: right;\n",
       "    }\n",
       "</style>\n",
       "<table border=\"1\" class=\"dataframe\">\n",
       "  <thead>\n",
       "    <tr style=\"text-align: right;\">\n",
       "      <th></th>\n",
       "      <th>class</th>\n",
       "    </tr>\n",
       "  </thead>\n",
       "  <tbody>\n",
       "    <tr>\n",
       "      <th>56</th>\n",
       "      <td>1</td>\n",
       "    </tr>\n",
       "    <tr>\n",
       "      <th>44</th>\n",
       "      <td>1</td>\n",
       "    </tr>\n",
       "    <tr>\n",
       "      <th>81</th>\n",
       "      <td>1</td>\n",
       "    </tr>\n",
       "    <tr>\n",
       "      <th>33</th>\n",
       "      <td>1</td>\n",
       "    </tr>\n",
       "    <tr>\n",
       "      <th>18</th>\n",
       "      <td>1</td>\n",
       "    </tr>\n",
       "  </tbody>\n",
       "</table>\n",
       "</div>"
      ],
      "text/plain": [
       "    class\n",
       "56      1\n",
       "44      1\n",
       "81      1\n",
       "33      1\n",
       "18      1"
      ]
     },
     "execution_count": 20,
     "metadata": {},
     "output_type": "execute_result"
    }
   ],
   "source": [
    "y_train.head()"
   ]
  },
  {
   "cell_type": "code",
   "execution_count": 21,
   "metadata": {},
   "outputs": [
    {
     "data": {
      "text/html": [
       "<div>\n",
       "<style scoped>\n",
       "    .dataframe tbody tr th:only-of-type {\n",
       "        vertical-align: middle;\n",
       "    }\n",
       "\n",
       "    .dataframe tbody tr th {\n",
       "        vertical-align: top;\n",
       "    }\n",
       "\n",
       "    .dataframe thead th {\n",
       "        text-align: right;\n",
       "    }\n",
       "</style>\n",
       "<table border=\"1\" class=\"dataframe\">\n",
       "  <thead>\n",
       "    <tr style=\"text-align: right;\">\n",
       "      <th></th>\n",
       "      <th>class</th>\n",
       "    </tr>\n",
       "  </thead>\n",
       "  <tbody>\n",
       "    <tr>\n",
       "      <th>93</th>\n",
       "      <td>0</td>\n",
       "    </tr>\n",
       "    <tr>\n",
       "      <th>114</th>\n",
       "      <td>0</td>\n",
       "    </tr>\n",
       "    <tr>\n",
       "      <th>19</th>\n",
       "      <td>1</td>\n",
       "    </tr>\n",
       "    <tr>\n",
       "      <th>69</th>\n",
       "      <td>1</td>\n",
       "    </tr>\n",
       "    <tr>\n",
       "      <th>53</th>\n",
       "      <td>1</td>\n",
       "    </tr>\n",
       "  </tbody>\n",
       "</table>\n",
       "</div>"
      ],
      "text/plain": [
       "     class\n",
       "93       0\n",
       "114      0\n",
       "19       1\n",
       "69       1\n",
       "53       1"
      ]
     },
     "execution_count": 21,
     "metadata": {},
     "output_type": "execute_result"
    }
   ],
   "source": [
    "y_test.head()"
   ]
  },
  {
   "cell_type": "code",
   "execution_count": 22,
   "metadata": {},
   "outputs": [],
   "source": [
    "def print_score(clf, X_train, y_train, X_test, y_test, train=True):\n",
    "    if train:\n",
    "        pred = clf.predict(X_train)\n",
    "        clf_report = pd.DataFrame(classification_report(y_train, pred, output_dict=True))\n",
    "        print(\"Train Result:n================================================\")\n",
    "        print(f\"Accuracy Score: {accuracy_score(y_train, pred) * 100:.2f}%\")\n",
    "        print(\"_______________________________________________\")\n",
    "        print(f\"CLASSIFICATION REPORT:n{clf_report}\")\n",
    "        print(\"_______________________________________________\")\n",
    "        print(f\"Confusion Matrix: n {confusion_matrix(y_train, pred)}n\")\n",
    "    elif train==False:\n",
    "        pred = clf.predict(X_test)\n",
    "        clf_report = pd.DataFrame(classification_report(y_test, pred, output_dict=True))\n",
    "        print(\"Test Result:n================================================\")        \n",
    "        print(f\"Accuracy Score: {accuracy_score(y_test, pred) * 100:.2f}%\")\n",
    "        print(\"_______________________________________________\")\n",
    "        print(f\"CLASSIFICATION REPORT:n{clf_report}\")\n",
    "        print(\"_______________________________________________\")\n",
    "        print(f\"Confusion Matrix: {confusion_matrix(y_test, pred)}\")"
   ]
  },
  {
   "cell_type": "code",
   "execution_count": 23,
   "metadata": {},
   "outputs": [
    {
     "name": "stdout",
     "output_type": "stream",
     "text": [
      "Model accuracy score with default hyperparameters: 0.5227\n"
     ]
    }
   ],
   "source": [
    "'''param_grid = {'C': [0.01, 0.1, 0.5, 1, 10, 100], \n",
    "              'gamma': [1, 0.75, 0.5, 0.25, 0.1, 0.01, 0.001], \n",
    "              'kernel': ['rbf', 'poly', 'linear']} \n",
    "grid = GridSearchCV(SVC(), param_grid, refit=True, verbose=1, cv=5)\n",
    "grid.fit(X_train, y_train)\n",
    "best_params = grid.best_params_\n",
    "print(f\"Best params: {best_params}\")\n",
    "svm_clf = SVC(**best_params)\n",
    "svm_clf.fit(X_train, y_train)\n",
    "print_score(svm_clf, X_train, y_train, X_test, y_test, train=True)\n",
    "print_score(svm_clf, X_train, y_train, X_test, y_test, train=False)'''\n",
    "\n",
    "svc=SVC() \n",
    "svc.fit(X_train,y_train)\n",
    "y_pred=svc.predict(X_test)\n",
    "print('Model accuracy score with default hyperparameters: {0:0.4f}'. format(accuracy_score(y_test, y_pred)))"
   ]
  },
  {
   "cell_type": "code",
   "execution_count": 24,
   "metadata": {},
   "outputs": [
    {
     "data": {
      "text/plain": [
       "array([1, 1, 1, 1, 1, 1, 1, 1, 1, 1, 1, 1, 1, 1, 1, 1, 1, 1, 1, 1, 1, 1,\n",
       "       0, 1, 1, 1, 1, 1, 1, 1, 1, 1, 1, 1, 1, 1, 1, 1, 1, 1, 1, 1, 1, 1],\n",
       "      dtype=int64)"
      ]
     },
     "execution_count": 24,
     "metadata": {},
     "output_type": "execute_result"
    }
   ],
   "source": [
    "y_pred_test_1 = svc.predict(X_test)\n",
    "y_pred_test_1"
   ]
  },
  {
   "cell_type": "code",
   "execution_count": 25,
   "metadata": {},
   "outputs": [
    {
     "name": "stdout",
     "output_type": "stream",
     "text": [
      "Confusion matrix\n",
      "\n",
      " [[ 1 21]\n",
      " [ 0 22]]\n",
      "False Negative Rate :  0.0\n"
     ]
    },
    {
     "data": {
      "image/png": "[encoded data removed]",
      "text/plain": [
       "<Figure size 432x288 with 2 Axes>"
      ]
     },
     "metadata": {
      "needs_background": "light"
     },
     "output_type": "display_data"
    }
   ],
   "source": [
    "\n",
    "\n",
    "cm = confusion_matrix(y_test, y_pred_test_1)\n",
    "\n",
    "print('Confusion matrix\\n\\n', cm)\n",
    "sns.heatmap(cm, annot=True, cmap = 'Blues')\n",
    "plt.title(\"Confusion Matrix\", fontsize=15)\n",
    "#plt.savefig(\"Confusion Matrix.png\", dpi=200)\n",
    "tn, fp, fn, tp = confusion_matrix(y_test,y_pred_test_1).ravel()\n",
    "#Specificity\n",
    "specificity = tn/(tn+fp)\n",
    "# Recall\n",
    "recall = tp/(tp+fn)\n",
    "\n",
    "FNR = fn/(fn+tp)\n",
    "\n",
    "print(\"False Negative Rate : \",FNR)"
   ]
  },
  {
   "cell_type": "code",
   "execution_count": 26,
   "metadata": {},
   "outputs": [
    {
     "name": "stdout",
     "output_type": "stream",
     "text": [
      "Model accuracy score with rbf kernel and C=100.0 : 0.8636\n"
     ]
    }
   ],
   "source": [
    "svc=SVC(C=100.0) \n",
    "\n",
    "svc.fit(X_train,y_train)\n",
    "\n",
    "y_pred=svc.predict(X_test)\n",
    "\n",
    "print('Model accuracy score with rbf kernel and C=100.0 : {0:0.4f}'. format(accuracy_score(y_test, y_pred)))"
   ]
  },
  {
   "cell_type": "code",
   "execution_count": 27,
   "metadata": {},
   "outputs": [],
   "source": [
    "# Feature Scaling\n",
    "\n",
    "scaler = StandardScaler()\n",
    "X_train = scaler.fit_transform(X_train)\n",
    "X_test = scaler.transform(X_test)\n",
    "\n"
   ]
  },
  {
   "cell_type": "code",
   "execution_count": 28,
   "metadata": {},
   "outputs": [],
   "source": [
    "pca = PCA(n_components=3)\n",
    "scaler = StandardScaler()\n",
    "X_train = pca.fit_transform(X_train)\n",
    "X_test = pca.transform(X_test)\n",
    "X_train = scaler.fit_transform(X_train)\n",
    "X_test = scaler.transform(X_test)\n",
    "#pca.score"
   ]
  },
  {
   "cell_type": "code",
   "execution_count": 29,
   "metadata": {},
   "outputs": [
    {
     "data": {
      "text/plain": [
       "Text(0, 0.5, 'Second Principal Component')"
      ]
     },
     "execution_count": 29,
     "metadata": {},
     "output_type": "execute_result"
    },
    {
     "data": {
      "image/png": "[encoded data removed]",
      "text/plain": [
       "<Figure size 720x720 with 1 Axes>"
      ]
     },
     "metadata": {
      "needs_background": "light"
     },
     "output_type": "display_data"
    }
   ],
   "source": [
    "plt.figure(figsize=(10,10))\n",
    "plt.scatter(X_train[:,0],X_train[:,1],c = y_train['class'],cmap='Dark2_r')\n",
    "plt.xlabel('First principal component')\n",
    "plt.ylabel('Second Principal Component')"
   ]
  },
  {
   "cell_type": "code",
   "execution_count": 30,
   "metadata": {},
   "outputs": [
    {
     "name": "stdout",
     "output_type": "stream",
     "text": [
      "Fitting 5 folds for each of 126 candidates, totalling 630 fits\n",
      "Best params: {'C': 0.5, 'gamma': 0.25, 'kernel': 'rbf'}\n",
      "Train Result:n================================================\n",
      "Accuracy Score: 79.23%\n",
      "_______________________________________________\n",
      "CLASSIFICATION REPORT:n                   0          1  accuracy   macro avg  weighted avg\n",
      "precision   0.757143   0.833333  0.792308    0.795238      0.796410\n",
      "recall      0.841270   0.746269  0.792308    0.793769      0.792308\n",
      "f1-score    0.796992   0.787402  0.792308    0.792197      0.792049\n",
      "support    63.000000  67.000000  0.792308  130.000000    130.000000\n",
      "_______________________________________________\n",
      "Confusion Matrix: n [[53 10]\n",
      " [17 50]]n\n",
      "Test Result:n================================================\n",
      "Accuracy Score: 84.09%\n",
      "_______________________________________________\n",
      "CLASSIFICATION REPORT:n                   0          1  accuracy  macro avg  weighted avg\n",
      "precision   0.826087   0.857143  0.840909   0.841615      0.841615\n",
      "recall      0.863636   0.818182  0.840909   0.840909      0.840909\n",
      "f1-score    0.844444   0.837209  0.840909   0.840827      0.840827\n",
      "support    22.000000  22.000000  0.840909  44.000000     44.000000\n",
      "_______________________________________________\n",
      "Confusion Matrix: [[19  3]\n",
      " [ 4 18]]\n"
     ]
    }
   ],
   "source": [
    "param_grid = {'C': [0.01, 0.1, 0.5, 1, 10, 100], \n",
    "              'gamma': [1, 0.75, 0.5, 0.25, 0.1, 0.01, 0.001], \n",
    "              'kernel': ['rbf', 'poly', 'linear']} \n",
    "grid = GridSearchCV(SVC(), param_grid, refit=True, verbose=1, cv=5)\n",
    "grid.fit(X_train, y_train)\n",
    "best_params = grid.best_params_\n",
    "print(f\"Best params: {best_params}\")\n",
    "svm_clf = SVC(**best_params)\n",
    "svm_clf.fit(X_train, y_train)\n",
    "print_score(svm_clf, X_train, y_train, X_test, y_test, train=True)\n",
    "print_score(svm_clf, X_train, y_train, X_test, y_test, train=False)"
   ]
  },
  {
   "cell_type": "code",
   "execution_count": 31,
   "metadata": {},
   "outputs": [
    {
     "name": "stdout",
     "output_type": "stream",
     "text": [
      "False Negative Rate :  0.18181818181818182\n"
     ]
    },
    {
     "data": {
      "image/png": "[encoded data removed]",
      "text/plain": [
       "<Figure size 432x288 with 2 Axes>"
      ]
     },
     "metadata": {
      "needs_background": "light"
     },
     "output_type": "display_data"
    }
   ],
   "source": [
    "\n",
    "\n",
    "#Predict the result for test values\n",
    "y_pred = grid.predict(X_test)\n",
    "\n",
    "#Compute confusion matrix\n",
    "\n",
    "cm = confusion_matrix(y_test,y_pred)\n",
    "cm\n",
    "sns.heatmap(cm, annot=True, cmap = 'Blues')\n",
    "plt.title(\"Confusion Matrix\", fontsize=15)\n",
    "#plt.savefig(\"Confusion Matrix.png\", dpi=200)\n",
    "tn, fp, fn, tp = confusion_matrix(y_test,y_pred).ravel()\n",
    "#Specificity\n",
    "specificity = tn/(tn+fp)\n",
    "# Recall\n",
    "recall = tp/(tp+fn)\n",
    "\n",
    "FNR = fn/(fn+tp)\n",
    "\n",
    "print(\"False Negative Rate : \",FNR)"
   ]
  },
  {
   "cell_type": "code",
   "execution_count": 32,
   "metadata": {},
   "outputs": [
    {
     "name": "stdout",
     "output_type": "stream",
     "text": [
      "Fitting 5 folds for each of 126 candidates, totalling 630 fits\n",
      "Fitting 5 folds for each of 126 candidates, totalling 630 fits\n",
      "Fitting 5 folds for each of 126 candidates, totalling 630 fits\n",
      "Fitting 5 folds for each of 126 candidates, totalling 630 fits\n",
      "Fitting 5 folds for each of 126 candidates, totalling 630 fits\n",
      "Fitting 5 folds for each of 126 candidates, totalling 630 fits\n",
      "Fitting 5 folds for each of 126 candidates, totalling 630 fits\n",
      "Fitting 5 folds for each of 126 candidates, totalling 630 fits\n",
      "Fitting 5 folds for each of 126 candidates, totalling 630 fits\n",
      "Fitting 5 folds for each of 126 candidates, totalling 630 fits\n"
     ]
    },
    {
     "data": {
      "text/plain": [
       "array([0.76923077, 0.69230769, 0.61538462, 0.84615385, 0.69230769,\n",
       "       0.61538462, 0.69230769, 0.92307692, 0.69230769, 0.76923077])"
      ]
     },
     "execution_count": 32,
     "metadata": {},
     "output_type": "execute_result"
    }
   ],
   "source": [
    "#Apply k-fold validation here\n",
    "\n",
    "accuracies = cross_val_score(estimator=grid,X=X_train,y=y_train,cv=10)\n",
    "accuracies"
   ]
  },
  {
   "cell_type": "code",
   "execution_count": 33,
   "metadata": {},
   "outputs": [
    {
     "data": {
      "image/png": "[encoded data removed]",
      "text/plain": [
       "<Figure size 432x288 with 1 Axes>"
      ]
     },
     "metadata": {
      "needs_background": "light"
     },
     "output_type": "display_data"
    }
   ],
   "source": [
    "plt.hist(accuracies)\n",
    "plt.show()"
   ]
  },
  {
   "cell_type": "code",
   "execution_count": 34,
   "metadata": {},
   "outputs": [
    {
     "data": {
      "text/plain": [
       "0.7692307692307692"
      ]
     },
     "execution_count": 34,
     "metadata": {},
     "output_type": "execute_result"
    }
   ],
   "source": [
    "best_accuracy = grid.best_score_\n",
    "best_accuracy"
   ]
  },
  {
   "cell_type": "code",
   "execution_count": 35,
   "metadata": {},
   "outputs": [
    {
     "data": {
      "text/plain": [
       "{'C': 0.5, 'gamma': 0.25, 'kernel': 'rbf'}"
      ]
     },
     "execution_count": 35,
     "metadata": {},
     "output_type": "execute_result"
    }
   ],
   "source": [
    "opt_param = grid.best_params_\n",
    "opt_param"
   ]
  },
  {
   "cell_type": "code",
   "execution_count": 36,
   "metadata": {},
   "outputs": [
    {
     "name": "stdout",
     "output_type": "stream",
     "text": [
      "False Negative Rate :  0.18181818181818182\n"
     ]
    }
   ],
   "source": [
    "print(\"False Negative Rate : \",FNR)"
   ]
  }
 ],
 "metadata": {
  "kernelspec": {
   "display_name": "Python 3 (ipykernel)",
   "language": "python",
   "name": "python3"
  },
  "language_info": {
   "codemirror_mode": {
    "name": "ipython",
    "version": 3
   },
   "file_extension": ".py",
   "mimetype": "text/x-python",
   "name": "python",
   "nbconvert_exporter": "python",
   "pygments_lexer": "ipython3",
   "version": "3.9.7"
  },
  "vscode": {
   "interpreter": {
    "hash": "ec4522f2c34d939c78a64461558990350830c183c693b089304cf45ef430671e"
   }
  }
 },
 "nbformat": 4,
 "nbformat_minor": 2
}
